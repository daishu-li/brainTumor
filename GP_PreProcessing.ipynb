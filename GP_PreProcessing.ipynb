{
 "cells": [
  {
   "cell_type": "code",
   "execution_count": 1,
   "metadata": {
    "collapsed": true
   },
   "outputs": [],
   "source": [
    "import os\n",
    "import cv2 as cv\n",
    "import numpy as np\n",
    "from pywt import dwt2, idwt2\n",
    "\n"
   ]
  },
  {
   "cell_type": "code",
   "execution_count": 2,
   "metadata": {
    "collapsed": true
   },
   "outputs": [],
   "source": [
    "imgPath = 'E:\\\\GPImage\\\\HandleImage\\\\GrayImage\\\\'\n",
    "savePath = 'E:\\\\GPImage\\\\HandleImage\\\\WaveletTransform\\\\'\n",
    "\n",
    "# fileList = os.listdir(imgPath)\n",
    "# totalNum = len(fileList)\n",
    "# print(totalNum)"
   ]
  },
  {
   "cell_type": "code",
   "execution_count": 3,
   "metadata": {
    "collapsed": true
   },
   "outputs": [],
   "source": [
    "# 对所有图片进行局部直方图均衡化\n",
    "for i in range(totalNum):\n",
    "    path = imgPath + str(fileList[i])\n",
    "    img = cv.imread(path, 0)\n",
    "    img = cv.resize(img, None, fx=0.5, fy=0.5)\n",
    "    # 创建CLAHE对象\n",
    "    clahe = cv.createCLAHE(clipLimit=2.0, tileGridSize=(8, 8))\n",
    "    # 限制对比度的自适应阈值均衡化\n",
    "    dst = clahe.apply(img)\n",
    "    # 使用全局直方图均衡化\n",
    "    #equa = cv.equalizeHist(img)\n",
    "    # 分别显示原图，CLAHE，HE\n",
    "    #cv.imshow(\"img\", img)\n",
    "    #cv.imshow(\"dst\", dst)\n",
    "    #cv.imshow(\"equa\", equa)\n",
    "    #cv.waitKey()\n",
    "    \n",
    "    # 保存图片\n",
    "    savepath = savePath + str(fileList[i])\n",
    "    cv.imwrite(savepath, dst)\n",
    "print('图片保存完成')\n"
   ]
  },
  {
   "cell_type": "code",
   "execution_count": 4,
   "metadata": {},
   "outputs": [
    {
     "data": {
      "text/plain": [
       "True"
      ]
     },
     "execution_count": 4,
     "metadata": {},
     "output_type": "execute_result"
    }
   ],
   "source": [
    "# -----小波变换-----\n",
    "testPath = imgPath + \"1.png\"\n",
    "\n",
    "img = cv.imread(testPath, 0)\n",
    "\n",
    "cA,(cH, cV, cD) = dwt2(img, 'haar')\n",
    "\n",
    "# 小波变换之后，低频分量对应的图像：\n",
    "cv.imwrite(savePath + 'lena.png',np.uint8(cA/np.max(cA)*255))\n",
    "# 小波变换之后，水平方向高频分量对应的图像：\n",
    "cv.imwrite(savePath + 'lena_h.png',np.uint8(cH/np.max(cH)*255))\n",
    "# 小波变换之后，垂直平方向高频分量对应的图像：\n",
    "cv.imwrite(savePath + 'lena_v.png',np.uint8(cV/np.max(cV)*255))\n",
    "# 小波变换之后，对角线方向高频分量对应的图像：\n",
    "cv.imwrite(savePath + 'lena_d.png',np.uint8(cD/np.max(cD)*255))\n",
    " \n",
    "# 根据小波系数重构回去的图像\n",
    "rimg = idwt2((cA,(cH,cV,cD)), 'haar')\n",
    "cv.imwrite(savePath + 'rimg.png',np.uint8(rimg))\n"
   ]
  },
  {
   "cell_type": "code",
   "execution_count": 5,
   "metadata": {
    "collapsed": true
   },
   "outputs": [],
   "source": [
    "# # 对图像进行多次小波变换\n",
    "# testPath = imgPath + \"lena.png\"\n",
    "# img = cv.imread(testPath, 0)\n",
    "\n",
    "# cA,(cH, cV, cD) = dwt2(img, 'haar')\n",
    "\n",
    "# # 小波变换之后，低频分量对应的图像：\n",
    "# cv.imwrite(testPath,np.uint8(cA/np.max(cA)*255))\n",
    "\n",
    "# img = cv.imread(testPath, 0)\n",
    "\n",
    "# cA,(cH, cV, cD) = dwt2(img, 'haar')\n",
    "\n",
    "# # 小波变换之后，低频分量对应的图像：\n",
    "# cv.imwrite(testPath,np.uint8(cA/np.max(cA)*255))\n",
    "\n",
    "# img = cv.imread(testPath, 0)\n",
    "\n",
    "# cA,(cH, cV, cD) = dwt2(img, 'haar')\n",
    "\n",
    "# savePath = imgPath + \"duocixiaobo.png\"\n",
    "# # 小波变换之后，低频分量对应的图像：\n",
    "# cv.imwrite(testPath,np.uint8(cA/np.max(cA)*255))\n",
    "\n"
   ]
  },
  {
   "cell_type": "code",
   "execution_count": 6,
   "metadata": {
    "collapsed": true
   },
   "outputs": [],
   "source": [
    "# import cv2 as cv\n",
    "# import numpy as np\n",
    "# import matplotlib.pyplot as plt\n"
   ]
  },
  {
   "cell_type": "code",
   "execution_count": 7,
   "metadata": {
    "collapsed": true
   },
   "outputs": [],
   "source": [
    "# def calcGrayHist(I):\n",
    "#     # 计算灰度直方图\n",
    "#     h, w = I.shape[:2]\n",
    "#     grayHist = np.zeros([512], np.uint64)\n",
    "#     for i in range(h):\n",
    "#         for j in range(w):\n",
    "#             grayHist[I[i][j]] += 1\n",
    "#     return grayHist\n",
    "\n",
    "# def gerayHist(img):\n",
    "#     h, w = img.shape[:2]\n",
    "#     pixelSequence = img.reshape([h*w, ])\n",
    "#     numberBins = 512\n",
    "#     histogram, bins, patch = plt.hist(pixelSequence,n numberBins,\n",
    "#                                      facecolor = 'black', histtype = 'bar')\n",
    "#     plt.xlabel('gray Label')\n",
    "#     plt.ylabel('number of pixels')\n",
    "#     plt.axis([0,512,0, np.max(histogram)])\n",
    "#     plt.show()"
   ]
  },
  {
   "cell_type": "code",
   "execution_count": 8,
   "metadata": {
    "collapsed": true
   },
   "outputs": [],
   "source": [
    "# -----直方图均匀化-----\n",
    "# imgPath = 'E:\\\\GPImage\\\\HandleImage\\\\GrayImage\\\\'\n",
    "# testPath = imgPath + \"1.png\"\n",
    "\n",
    "# img = cv.imread(testPath, 0)\n",
    "# cv.imshow('beffor', img)\n",
    "\n",
    "# grayHist = calcGrayHist(img)\n",
    "\n",
    "# # out = 2.0 * img\n",
    "# # out[out>255] = 255\n",
    "\n",
    "# # out = np.around(out)\n",
    "# # out = out.astype(np.uint8)\n",
    "\n",
    "# cv.imshow('img', img)\n",
    "# # cv.imshow('out', out)\n",
    "# cv.waitKey()\n",
    "\n",
    "# x = np.arange(512)\n",
    "\n",
    "# plt.plot(x, grayHist, 'r', linewidth = 2, c = 'black')\n",
    "# plt.xlabel('gray Label')\n",
    "# plt.ylabel('number of pixels')\n",
    "\n",
    "# plt.show()\n"
   ]
  },
  {
   "cell_type": "code",
   "execution_count": 9,
   "metadata": {
    "collapsed": true
   },
   "outputs": [],
   "source": [
    "# # 限制对比度的自适应直方图均衡化\n",
    "# imgPath = 'E:\\\\GPImage\\\\HandleImage\\\\GrayImage\\\\'\n",
    "# testPath = imgPath + \"1.png\"\n",
    "\n",
    "# img = cv.imread(testPath, 0)\n",
    "# img = cv.resize(img, None, fx=0.5, fy=0.5)\n",
    "# # 创建CLAHE对象\n",
    "# clahe = cv.createCLAHE(clipLimit=2.0, tileGridSize=(8, 8))\n",
    "# # 限制对比度的自适应阈值均衡化\n",
    "# dst = clahe.apply(img)\n",
    "# # 使用全局直方图均衡化\n",
    "# equa = cv.equalizeHist(img)\n",
    "# # 分别显示原图，CLAHE，HE\n",
    "# cv.imshow(\"img\", img)\n",
    "# cv.imshow(\"dst\", dst)\n",
    "# cv.imshow(\"equa\", equa)\n",
    "# cv.waitKey()"
   ]
  },
  {
   "cell_type": "code",
   "execution_count": 10,
   "metadata": {
    "collapsed": true
   },
   "outputs": [],
   "source": [
    "# -----伽马变换-----\n",
    "# imgPath = 'E:\\\\GPImage\\\\HandleImage\\\\GrayImage\\\\'\n",
    "# testPath = imgPath + \"1.png\"\n",
    "\n",
    "# img = cv.imread(testPath, 0)\n",
    "# cv.imshow('beffor', img)\n",
    "\n",
    "# fi = img/255.0\n",
    "# gamma = 0.82\n",
    "# out = np.power(fi, gamma)\n",
    "# cv.imshow('out', out)\n",
    "# cv.waitKey()"
   ]
  },
  {
   "cell_type": "code",
   "execution_count": null,
   "metadata": {
    "collapsed": true
   },
   "outputs": [],
   "source": []
  }
 ],
 "metadata": {
  "kernelspec": {
   "display_name": "Python 3",
   "language": "python",
   "name": "python3"
  },
  "language_info": {
   "codemirror_mode": {
    "name": "ipython",
    "version": 3
   },
   "file_extension": ".py",
   "mimetype": "text/x-python",
   "name": "python",
   "nbconvert_exporter": "python",
   "pygments_lexer": "ipython3",
   "version": "3.6.10"
  },
  "toc": {
   "base_numbering": 1,
   "nav_menu": {},
   "number_sections": true,
   "sideBar": true,
   "skip_h1_title": false,
   "title_cell": "Table of Contents",
   "title_sidebar": "Contents",
   "toc_cell": false,
   "toc_position": {},
   "toc_section_display": true,
   "toc_window_display": false
  }
 },
 "nbformat": 4,
 "nbformat_minor": 2
}
