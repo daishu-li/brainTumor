{
 "cells": [
  {
   "cell_type": "code",
   "execution_count": 1,
   "metadata": {
    "code_folding": []
   },
   "outputs": [
    {
     "name": "stderr",
     "output_type": "stream",
     "text": [
      "F:\\anaconda\\envs\\GP\\lib\\site-packages\\sklearn\\externals\\joblib\\__init__.py:15: FutureWarning: sklearn.externals.joblib is deprecated in 0.21 and will be removed in 0.23. Please import this functionality directly from joblib, which can be installed with: pip install joblib. If this warning is raised when loading pickled models, you may need to re-serialize those models with scikit-learn 0.21+.\n",
      "  warnings.warn(msg, category=FutureWarning)\n"
     ]
    }
   ],
   "source": [
    "# 程序所需的包\n",
    "import tensorflow as tf\n",
    "import os\n",
    "import numpy as np\n",
    "import re\n",
    "import pickle\n",
    "import cv2 as cv\n",
    "import h5py\n",
    "import matplotlib.pyplot as plt\n",
    "from scipy import stats\n",
    "from pywt import dwt2, idwt2\n",
    "from sklearn import svm\n",
    "from sklearn.svm import LinearSVC\n",
    "from sklearn.preprocessing import MinMaxScaler\n",
    "from sklearn.externals import joblib\n",
    "from sklearn.decomposition import PCA\n",
    "from skimage.feature import greycomatrix, greycoprops\n",
    "from sklearn.discriminant_analysis import LinearDiscriminantAnalysis as LDA\n",
    "from skimage.feature import local_binary_pattern\n",
    "from skimage import data, io,data_dir,filters, feature"
   ]
  },
  {
   "cell_type": "code",
   "execution_count": 2,
   "metadata": {
    "code_folding": [
     0
    ],
    "collapsed": true
   },
   "outputs": [],
   "source": [
    "# 程序所需的链接\n",
    "eyePath = 'E:\\\\GPImage\\\\HandleImage\\\\HandleEnhanceImage\\\\EYE\\\\'\n",
    "upPath = 'E:\\\\GPImage\\\\HandleImage\\\\HandleEnhanceImage\\\\UP\\\\'\n",
    "facePath = 'E:\\\\GPImage\\\\HandleImage\\\\HandleEnhanceImage\\\\FACE\\\\'\n",
    "leftPath = 'E:\\\\GPImage\\\\HandleImage\\\\HandleEnhanceImage\\\\LEFT\\\\'\n",
    "backPath = 'E:\\\\GPImage\\\\HandleImage\\\\HandleEnhanceImage\\\\BACK\\\\'\n",
    "\n",
    "savePath = 'E:\\\\GPImage\\\\HandleImage\\\\HandleImage\\\\MODEL\\\\'\n",
    "\n",
    "label_1_Path = 'E:\\\\GPImage\\\\brainTumorDataPublic_1-766\\\\'\n",
    "label_2_Path = 'E:\\\\GPImage\\\\brainTumorDataPublic_767-1532\\\\'\n",
    "label_3_Path = 'E:\\\\GPImage\\\\brainTumorDataPublic_1533-2298\\\\'\n",
    "label_4_Path = 'E:\\\\GPImage\\\\brainTumorDataPublic_2299-3064\\\\'\n",
    "\n",
    "# 保存模型的地址\n",
    "save_eyePath = 'E:\\\\GPImage\\\\HandleImage\\\\HandleEnhanceImage\\\\model\\\\SVM\\\\eye\\\\digits_cls.pkl'\n",
    "save_upPath = 'E:\\\\GPImage\\\\HandleImage\\\\HandleEnhanceImage\\\\model\\\\SVM\\\\up\\\\digits_cls.pkl'\n",
    "save_facePath = 'E:\\\\GPImage\\\\HandleImage\\\\HandleEnhanceImage\\\\model\\\\SVM\\\\face\\\\digits_cls.pkl'\n",
    "save_leftPath = 'E:\\\\GPImage\\\\HandleImage\\\\HandleEnhanceImage\\\\model\\\\SVM\\\\left\\\\digits_cls.pkl'\n",
    "save_backPath = 'E:\\\\GPImage\\\\HandleImage\\\\HandleEnhanceImage\\\\model\\\\SVM\\\\back\\\\digits_cls.pkl'"
   ]
  },
  {
   "cell_type": "code",
   "execution_count": 3,
   "metadata": {
    "collapsed": true
   },
   "outputs": [],
   "source": [
    "# labels = {}"
   ]
  },
  {
   "cell_type": "code",
   "execution_count": 4,
   "metadata": {
    "code_folding": [
     0
    ],
    "collapsed": true
   },
   "outputs": [],
   "source": [
    "# # 获取单张图片的id和对应的肿瘤类型\n",
    "# def get_id_label(label_Path, file_list, total_num):\n",
    "#     global labels\n",
    "#     for i in range(total_num):\n",
    "        \n",
    "# #         print(\"第\" + str(i) + \"次输出\")\n",
    "#         i_filePath = label_Path + file_list[i]\n",
    "#         i_data = h5py.File(i_filePath, 'r')\n",
    "#         i_dest = i_data['cjdata']\n",
    "#         #         print(str(type(i_dest['tumorBorder'])) + '\\n')\n",
    "#         # 获取image的唯一标注 文件名\n",
    "#         i_index= file_list[i].split('.')[0]\n",
    "#         # i_PID = i_dest['PID']\n",
    "#         i_label = i_dest['label']\n",
    "#         label = int(i_label[0][0])\n",
    "# #         print(\"--------------\")\n",
    "# #         print(str(i_index))\n",
    "# #         print(str(int(i_label[0][0])))\n",
    "# #         print(\"--------------\")\n",
    "        \n",
    "        \n",
    "#         # i_tumorBorder = np.copy(i_dest['tumorBorder'])\n",
    "#         # i_tumorMask = i_dest['tumorMask']\n",
    "#         # print(str(i_label) + '  ' + str(i_tumorBorder) + '\\n')\n",
    "        \n",
    "#         key = i_index\n",
    "#         value = label\n",
    "#         labels[key] = value\n",
    "        \n",
    "# #         labels.update( file_list[i].split('.')[0] =  label)\n",
    "# #     print(\"--------------------------------------------------\")   \n",
    "# #     print(\"id和label获取完成！！！！！\")  \n",
    "# #     print(str(len(labels)))\n",
    "# #     for k in labels:\n",
    "# #         print(\"*******************\")\n",
    "# #         print(str(k) + \": \" + str(labels[k]))\n",
    "# #         print(\"*******************\")"
   ]
  },
  {
   "cell_type": "code",
   "execution_count": 5,
   "metadata": {
    "code_folding": [
     0
    ],
    "collapsed": true
   },
   "outputs": [],
   "source": [
    "# 获取图像的id和肿瘤类型的对应关系\n",
    "# file_1_list = os.listdir(label_1_Path)\n",
    "# total_1_num = len(file_1_list)\n",
    "# get_id_label(label_1_Path, file_1_list, total_1_num)\n",
    "\n",
    "# file_2_list = os.listdir(label_2_Path)\n",
    "# total_2_num = len(file_2_list)\n",
    "# get_id_label(label_2_Path, file_2_list, total_2_num)\n",
    "\n",
    "# file_3_list = os.listdir(label_3_Path)\n",
    "# total_3_num = len(file_3_list)\n",
    "# get_id_label(label_3_Path, file_3_list, total_3_num)\n",
    "\n",
    "# file_4_list = os.listdir(label_4_Path)\n",
    "# total_4_num = len(file_4_list)\n",
    "# get_id_label(label_4_Path, file_4_list, total_4_num)\n"
   ]
  },
  {
   "cell_type": "code",
   "execution_count": 6,
   "metadata": {
    "code_folding": [
     0
    ],
    "collapsed": true
   },
   "outputs": [],
   "source": [
    "# 检验labels的内容\n",
    "# print(str(len(labels)))\n",
    "# for k in labels:\n",
    "#     print(\"*******************\")\n",
    "#     print(str(k) + \": \" + str(labels[k]))\n",
    "#     print(\"*******************\")"
   ]
  },
  {
   "cell_type": "code",
   "execution_count": 7,
   "metadata": {
    "code_folding": [
     0
    ],
    "collapsed": true
   },
   "outputs": [],
   "source": [
    "# 添加肿瘤类型的标签，并重命名\n",
    "# def add_tumour_form(path, list, num):\n",
    "#     global labels\n",
    "#     # 获取文件名中的index，并通过labels中的key获取vealue的值(肿瘤类型)\n",
    "#     for i in range(num):\n",
    "#         print(\"第\" + str(i) + \"次输出\")\n",
    "#         i_name = list[i]\n",
    "#         id_in_name = re.sub(\"\\D\", \"\", i_name)\n",
    "#         print(id_in_name)\n",
    "#         value = labels[id_in_name]\n",
    "#         print(value)\n",
    "#         if(value == 1):\n",
    "#             name = 'meningioma'\n",
    "#         elif(value == 2):\n",
    "#             name = 'glioma'\n",
    "#         else:\n",
    "#             name = 'pituitary'\n",
    "        \n",
    "#         re_image_name = path + id_in_name + \"_\" + name + \".png\"\n",
    "#         print(\"原文件名： \" + path + i_name)\n",
    "#         print(\"新文件名： \" + re_image_name)\n",
    "#         print(\"--------------------------\")\n",
    "#         os.renames(path + i_name, re_image_name)"
   ]
  },
  {
   "cell_type": "code",
   "execution_count": 8,
   "metadata": {
    "code_folding": [
     0
    ],
    "collapsed": true
   },
   "outputs": [],
   "source": [
    "# 获取各个类目文件夹下的图片名\n",
    "# 并对图片所属的肿瘤类型进行标注\n",
    "\n",
    "# eye_list = os.listdir(eyePath)\n",
    "# eye_num = len(eye_list)\n",
    "# add_tumour_form(eyePath, eye_list, eye_num)\n",
    "\n",
    "# up_list = os.listdir(upPath)\n",
    "# up_num = len(up_list)\n",
    "# add_tumour_form(upPath, up_list, up_num)\n",
    "\n",
    "# back_list = os.listdir(backPath)\n",
    "# back_num = len(back_list)\n",
    "# add_tumour_form(backPath, back_list, back_num)\n",
    "\n",
    "# left_list = os.listdir(leftPath)\n",
    "# left_num = len(left_list)\n",
    "# add_tumour_form(leftPath, left_list, left_num)\n",
    "\n",
    "# face_list = os.listdir(facePath)\n",
    "# face_num = len(face_list)\n",
    "# add_tumour_form(facePath, face_list, face_num)\n",
    "\n",
    "\n"
   ]
  },
  {
   "cell_type": "code",
   "execution_count": 9,
   "metadata": {
    "code_folding": [
     0
    ],
    "collapsed": true
   },
   "outputs": [],
   "source": [
    "# 对各个文件夹下的图片进行增强\n",
    "# 文件数量远远不够\n",
    "# 在GP_Data_Enhancement中实现"
   ]
  },
  {
   "cell_type": "code",
   "execution_count": 10,
   "metadata": {
    "code_folding": [],
    "collapsed": true
   },
   "outputs": [],
   "source": [
    "def glcm(arr, d_x, d_y, gray_level=16):\n",
    "    '''计算并返回归一化后的灰度共生矩阵'''\n",
    "    max_gray = arr.max()\n",
    "    height, width = arr.shape\n",
    "    arr = arr.astype(np.float64)  # 将uint8类型转换为float64，以免数据失真\n",
    "    arr = arr * (gray_level - 1) // max_gray  # 若灰度级数大于gray_level，则将图像的灰度级缩小至gray_level，减小灰度共生矩阵的大小。量化后灰度值范围：0 ~ gray_level - 1\n",
    "    ret = np.zeros([gray_level, gray_level])\n",
    "    for j in range(height -  abs(d_y)):\n",
    "        for i in range(width - abs(d_x)):  # range(width - d_x)  #注释为源代码，经评论指出错误后修改\n",
    "            rows = arr[j][i].astype(int)\n",
    "            cols = arr[j + d_y][i + d_x].astype(int)\n",
    "            ret[rows][cols] += 1\n",
    "    if d_x >= d_y:\n",
    "        ret = ret / float(height * (width - 1))  # 归一化, 水平方向或垂直方向\n",
    "    else:\n",
    "        ret = ret / float((height - 1) * (width - 1))  # 归一化, 45度或135度方向\n",
    "    return ret"
   ]
  },
  {
   "cell_type": "code",
   "execution_count": 11,
   "metadata": {
    "code_folding": [],
    "collapsed": true
   },
   "outputs": [],
   "source": [
    "# 为SVM准备数据， 提取图像特征(颜色、纹理、形态、边界......)\n",
    "def get_features(path): \n",
    "    # 为SVM准备数据，保存图片的多维特征和标签，进行PAC降维\n",
    "    features = []\n",
    "    labels = []\n",
    "    scalar = MinMaxScaler(feature_range=(0,1))\n",
    "    list = os.listdir(path)\n",
    "    num = len(list)\n",
    "    for i in range(num):\n",
    "        \n",
    "        # print(\"第\" + str(i) + \"次输出\")\n",
    "        i_filePath = path + list[i]\n",
    "        i_image = cv.imread(i_filePath, cv.COLOR_BGR2GRAY)\n",
    "        \n",
    "        if(i_image.shape == (256,256)):\n",
    "            i_feature = []\n",
    "            #  添加 文件标签\n",
    "            # 获取文件名\n",
    "            y = list[i]\n",
    "            # 去除文件后缀\n",
    "            y = os.path.splitext(y)\n",
    "            y_ = y[0]\n",
    "            # 去除文件中的数字，获取文件标签\n",
    "            y_ = str(\"\".join(filter(str.isalpha, y_)))\n",
    "\n",
    "            \n",
    "            # 输出图片\n",
    "            a = np.array(65536)\n",
    "            a.flags.writeable = True\n",
    "            a = np.copy(i_image)\n",
    "            a.shape = 256, 256\n",
    "            a = a.T\n",
    "            \n",
    "            \n",
    "            # LBP特征提取 \n",
    "            lbp = local_binary_pattern(a, 16, 4)\n",
    "#             print(str(lbp.shape))\n",
    "            lbp_mean = np.mean(lbp) # 均值\n",
    "            lbp_var = np.var(lbp) # 方差\n",
    "#             print(lbp_mean)\n",
    "            \n",
    "            # 边缘特征提取\n",
    "            edges = filters.sobel(a)\n",
    "#             print(str(edges.shape))\n",
    "            edges_mean = np.mean(edges) # 均值\n",
    "            edges_var = np.var(edges) # 方差\n",
    "            \n",
    "            # HOG特征提取\n",
    "            hog = feature.hog(a, \n",
    "                                  orientations=9,\n",
    "                                  pixels_per_cell=(32, 32),\n",
    "                                  cells_per_block=(4, 4),\n",
    "                                  block_norm = 'L1',\n",
    "                                  transform_sqrt=True,\n",
    "                                  feature_vector=True,\n",
    "                                  visualise=False)\n",
    "#             print(str(hog.shape))\n",
    "            hog_mean = np.mean(hog) # 均值\n",
    "            hog_var = np.var(hog) # 方差\n",
    "            \n",
    "            # 颜色直方图特征\n",
    "            a.shape = 256, 256, 1\n",
    "            a = a.T     \n",
    "            hist_np,bins = np.histogram(a,256,[0,256])\n",
    "#             print(str(hist_np.shape))\n",
    "            hist_np_mean = np.mean(hist_np) # 均值\n",
    "            hist_np_var = np.var(hist_np) # 方差\n",
    "            \n",
    "            # 小波变换\n",
    "#             print(\"************\")\n",
    "#             print(str(i_image.shape))\n",
    "            cA,(cH, cV, cD) = dwt2(i_image, 'haar')\n",
    "#             print(str(cA.shape))\n",
    "            cA_mean = np.mean(cA) # 均值\n",
    "            cA_var = np.var(cA) # 方差\n",
    "            cH_mean = np.mean(cH) # 均值\n",
    "            cH_var = np.var(cH) # 方差\n",
    "            cV_mean = np.mean(cV) # 均值\n",
    "            cV_var = np.var(cV) # 方差\n",
    "            cD_mean = np.mean(cD) # 均值\n",
    "            cD_var = np.var(cD) # 方差\n",
    "            \n",
    "            # Hu不变矩\n",
    "            moments  = cv.moments(i_image)\n",
    "            humoments = cv.HuMoments(moments)\n",
    "#             print(\"Hu不变矩的维度\")\n",
    "#             print(str(humoments.shape))\n",
    "            \n",
    "            # 灰度共生矩阵\n",
    "            glcm_0 = glcm(i_image, 1, 0)  # 水平方向\n",
    "            glcm_1 = glcm(i_image, 0, 1)  # 垂直方向\n",
    "            glcm_2 = glcm(i_image, 1, 1)  # 45度方向\n",
    "            glcm_3 = glcm(i_image, -1, 1)  # 135度方向\n",
    "            glcm_0_mean = np.mean(glcm_0) # 均值\n",
    "            glcm_0_var = np.var(glcm_0) # 方差\n",
    "            glcm_1_mean = np.mean(glcm_1) # 均值\n",
    "            glcm_1_var = np.var(glcm_1) # 方差\n",
    "            glcm_2_mean = np.mean(glcm_2) # 均值\n",
    "            glcm_2_var = np.var(glcm_2) # 方差\n",
    "            glcm_3_mean = np.mean(glcm_3) # 均值\n",
    "            glcm_3_var = np.var(glcm_3) # 方差\n",
    "            \n",
    "            i_feature.append(lbp_mean)\n",
    "            i_feature.append(lbp_var)\n",
    "            i_feature.append(edges_mean)\n",
    "            i_feature.append(edges_var)\n",
    "            i_feature.append(hog_mean)\n",
    "            i_feature.append(hog_var)\n",
    "            \n",
    "            i_feature.append(hist_np_mean)\n",
    "            i_feature.append(hist_np_var)\n",
    "            \n",
    "            i_feature.append(cA_mean)\n",
    "            i_feature.append(cA_var)\n",
    "            i_feature.append(cH_mean)\n",
    "            i_feature.append(cH_var)\n",
    "            i_feature.append(cV_mean)\n",
    "            i_feature.append(cV_var)\n",
    "            i_feature.append(cD_mean)\n",
    "            i_feature.append(cD_var)\n",
    "            \n",
    "            i_feature.append(humoments[0])\n",
    "            i_feature.append(humoments[1])\n",
    "            i_feature.append(humoments[2])\n",
    "            i_feature.append(humoments[3])\n",
    "            i_feature.append(humoments[4])\n",
    "            i_feature.append(humoments[5])\n",
    "            i_feature.append(humoments[6])\n",
    "            \n",
    "            i_feature.append(glcm_0_mean)\n",
    "            i_feature.append(glcm_0_var)\n",
    "            i_feature.append(glcm_1_mean)\n",
    "            i_feature.append(glcm_1_var)\n",
    "            i_feature.append(glcm_2_mean)\n",
    "            i_feature.append(glcm_2_var)\n",
    "            i_feature.append(glcm_3_mean)\n",
    "            i_feature.append(glcm_3_var)\n",
    "            \n",
    "            labels.append(y_)\n",
    "            features.append(i_feature)\n",
    "    return features, labels\n"
   ]
  },
  {
   "cell_type": "code",
   "execution_count": 12,
   "metadata": {
    "collapsed": true
   },
   "outputs": [],
   "source": [
    "# 使用SVM算法对经过PCA降维的数据进行分类训练，得到模型\n",
    "def svm_pac(features, labels, savePath):\n",
    "#     lda = LDA(n_components=1)\n",
    "#     reduced_features = lda.fit(features, labels)\n",
    "#     reduced_features = np.array(reduced_features).reshape(1, -1)\n",
    "#     Xtrain_features = lda.transform(reduced_features)\n",
    "\n",
    "    clf = LinearSVC()\n",
    "    \n",
    "#     clf = svm.SVC()\n",
    "    clf.fit(features, \n",
    "            labels)\n",
    "\n",
    "    joblib.dump(clf, savePath, compress=1)"
   ]
  },
  {
   "cell_type": "code",
   "execution_count": 13,
   "metadata": {
    "code_folding": [],
    "scrolled": true
   },
   "outputs": [
    {
     "name": "stdout",
     "output_type": "stream",
     "text": [
      "开始运行\n"
     ]
    },
    {
     "name": "stderr",
     "output_type": "stream",
     "text": [
      "F:\\anaconda\\envs\\GP\\lib\\site-packages\\skimage\\feature\\_hog.py:119: skimage_deprecation: Default value of `block_norm`==`L1` is deprecated and will be changed to `L2-Hys` in v0.15\n",
      "  'be changed to `L2-Hys` in v0.15', skimage_deprecation)\n"
     ]
    },
    {
     "ename": "KeyboardInterrupt",
     "evalue": "",
     "output_type": "error",
     "traceback": [
      "\u001b[1;31m---------------------------------------------------------------------------\u001b[0m",
      "\u001b[1;31mKeyboardInterrupt\u001b[0m                         Traceback (most recent call last)",
      "\u001b[1;32m<ipython-input-13-041f4c57cfa6>\u001b[0m in \u001b[0;36m<module>\u001b[1;34m()\u001b[0m\n\u001b[0;32m     13\u001b[0m \u001b[1;33m\u001b[0m\u001b[0m\n\u001b[0;32m     14\u001b[0m \u001b[0mprint\u001b[0m\u001b[1;33m(\u001b[0m\u001b[1;34m\"开始运行\"\u001b[0m\u001b[1;33m)\u001b[0m\u001b[1;33m\u001b[0m\u001b[1;33m\u001b[0m\u001b[0m\n\u001b[1;32m---> 15\u001b[1;33m \u001b[0mbackFeatures\u001b[0m\u001b[1;33m,\u001b[0m \u001b[0mbackLabels\u001b[0m \u001b[1;33m=\u001b[0m \u001b[0mget_features\u001b[0m\u001b[1;33m(\u001b[0m\u001b[0mbackPath\u001b[0m\u001b[1;33m)\u001b[0m\u001b[1;33m\u001b[0m\u001b[1;33m\u001b[0m\u001b[0m\n\u001b[0m\u001b[0;32m     16\u001b[0m \u001b[0mprint\u001b[0m\u001b[1;33m(\u001b[0m\u001b[1;34m\"获取特征和标签完成\"\u001b[0m\u001b[1;33m)\u001b[0m\u001b[1;33m\u001b[0m\u001b[1;33m\u001b[0m\u001b[0m\n\u001b[0;32m     17\u001b[0m \u001b[0msvm_pac\u001b[0m\u001b[1;33m(\u001b[0m\u001b[0mbackFeatures\u001b[0m\u001b[1;33m,\u001b[0m \u001b[0mbackLabels\u001b[0m\u001b[1;33m,\u001b[0m \u001b[0msave_backPath\u001b[0m\u001b[1;33m)\u001b[0m\u001b[1;33m\u001b[0m\u001b[1;33m\u001b[0m\u001b[0m\n",
      "\u001b[1;32m<ipython-input-11-468e6236a4e0>\u001b[0m in \u001b[0;36mget_features\u001b[1;34m(path)\u001b[0m\n\u001b[0;32m     89\u001b[0m             \u001b[1;31m# 灰度共生矩阵\u001b[0m\u001b[1;33m\u001b[0m\u001b[1;33m\u001b[0m\u001b[1;33m\u001b[0m\u001b[0m\n\u001b[0;32m     90\u001b[0m             \u001b[0mglcm_0\u001b[0m \u001b[1;33m=\u001b[0m \u001b[0mglcm\u001b[0m\u001b[1;33m(\u001b[0m\u001b[0mi_image\u001b[0m\u001b[1;33m,\u001b[0m \u001b[1;36m1\u001b[0m\u001b[1;33m,\u001b[0m \u001b[1;36m0\u001b[0m\u001b[1;33m)\u001b[0m  \u001b[1;31m# 水平方向\u001b[0m\u001b[1;33m\u001b[0m\u001b[1;33m\u001b[0m\u001b[0m\n\u001b[1;32m---> 91\u001b[1;33m             \u001b[0mglcm_1\u001b[0m \u001b[1;33m=\u001b[0m \u001b[0mglcm\u001b[0m\u001b[1;33m(\u001b[0m\u001b[0mi_image\u001b[0m\u001b[1;33m,\u001b[0m \u001b[1;36m0\u001b[0m\u001b[1;33m,\u001b[0m \u001b[1;36m1\u001b[0m\u001b[1;33m)\u001b[0m  \u001b[1;31m# 垂直方向\u001b[0m\u001b[1;33m\u001b[0m\u001b[1;33m\u001b[0m\u001b[0m\n\u001b[0m\u001b[0;32m     92\u001b[0m             \u001b[0mglcm_2\u001b[0m \u001b[1;33m=\u001b[0m \u001b[0mglcm\u001b[0m\u001b[1;33m(\u001b[0m\u001b[0mi_image\u001b[0m\u001b[1;33m,\u001b[0m \u001b[1;36m1\u001b[0m\u001b[1;33m,\u001b[0m \u001b[1;36m1\u001b[0m\u001b[1;33m)\u001b[0m  \u001b[1;31m# 45度方向\u001b[0m\u001b[1;33m\u001b[0m\u001b[1;33m\u001b[0m\u001b[0m\n\u001b[0;32m     93\u001b[0m             \u001b[0mglcm_3\u001b[0m \u001b[1;33m=\u001b[0m \u001b[0mglcm\u001b[0m\u001b[1;33m(\u001b[0m\u001b[0mi_image\u001b[0m\u001b[1;33m,\u001b[0m \u001b[1;33m-\u001b[0m\u001b[1;36m1\u001b[0m\u001b[1;33m,\u001b[0m \u001b[1;36m1\u001b[0m\u001b[1;33m)\u001b[0m  \u001b[1;31m# 135度方向\u001b[0m\u001b[1;33m\u001b[0m\u001b[1;33m\u001b[0m\u001b[0m\n",
      "\u001b[1;32m<ipython-input-10-8e176140137d>\u001b[0m in \u001b[0;36mglcm\u001b[1;34m(arr, d_x, d_y, gray_level)\u001b[0m\n\u001b[0;32m     10\u001b[0m             \u001b[0mrows\u001b[0m \u001b[1;33m=\u001b[0m \u001b[0marr\u001b[0m\u001b[1;33m[\u001b[0m\u001b[0mj\u001b[0m\u001b[1;33m]\u001b[0m\u001b[1;33m[\u001b[0m\u001b[0mi\u001b[0m\u001b[1;33m]\u001b[0m\u001b[1;33m.\u001b[0m\u001b[0mastype\u001b[0m\u001b[1;33m(\u001b[0m\u001b[0mint\u001b[0m\u001b[1;33m)\u001b[0m\u001b[1;33m\u001b[0m\u001b[1;33m\u001b[0m\u001b[0m\n\u001b[0;32m     11\u001b[0m             \u001b[0mcols\u001b[0m \u001b[1;33m=\u001b[0m \u001b[0marr\u001b[0m\u001b[1;33m[\u001b[0m\u001b[0mj\u001b[0m \u001b[1;33m+\u001b[0m \u001b[0md_y\u001b[0m\u001b[1;33m]\u001b[0m\u001b[1;33m[\u001b[0m\u001b[0mi\u001b[0m \u001b[1;33m+\u001b[0m \u001b[0md_x\u001b[0m\u001b[1;33m]\u001b[0m\u001b[1;33m.\u001b[0m\u001b[0mastype\u001b[0m\u001b[1;33m(\u001b[0m\u001b[0mint\u001b[0m\u001b[1;33m)\u001b[0m\u001b[1;33m\u001b[0m\u001b[1;33m\u001b[0m\u001b[0m\n\u001b[1;32m---> 12\u001b[1;33m             \u001b[0mret\u001b[0m\u001b[1;33m[\u001b[0m\u001b[0mrows\u001b[0m\u001b[1;33m]\u001b[0m\u001b[1;33m[\u001b[0m\u001b[0mcols\u001b[0m\u001b[1;33m]\u001b[0m \u001b[1;33m+=\u001b[0m \u001b[1;36m1\u001b[0m\u001b[1;33m\u001b[0m\u001b[1;33m\u001b[0m\u001b[0m\n\u001b[0m\u001b[0;32m     13\u001b[0m     \u001b[1;32mif\u001b[0m \u001b[0md_x\u001b[0m \u001b[1;33m>=\u001b[0m \u001b[0md_y\u001b[0m\u001b[1;33m:\u001b[0m\u001b[1;33m\u001b[0m\u001b[1;33m\u001b[0m\u001b[0m\n\u001b[0;32m     14\u001b[0m         \u001b[0mret\u001b[0m \u001b[1;33m=\u001b[0m \u001b[0mret\u001b[0m \u001b[1;33m/\u001b[0m \u001b[0mfloat\u001b[0m\u001b[1;33m(\u001b[0m\u001b[0mheight\u001b[0m \u001b[1;33m*\u001b[0m \u001b[1;33m(\u001b[0m\u001b[0mwidth\u001b[0m \u001b[1;33m-\u001b[0m \u001b[1;36m1\u001b[0m\u001b[1;33m)\u001b[0m\u001b[1;33m)\u001b[0m  \u001b[1;31m# 归一化, 水平方向或垂直方向\u001b[0m\u001b[1;33m\u001b[0m\u001b[1;33m\u001b[0m\u001b[0m\n",
      "\u001b[1;31mKeyboardInterrupt\u001b[0m: "
     ]
    }
   ],
   "source": [
    "# eyeFeatures, eyeLabels = get_features(eyePath)\n",
    "# svm_pac(eyeFeatures, eyeLabels, save_eyePath)\n",
    "\n",
    "# upFeatures, upLabels = get_features(upPath)\n",
    "# svm_pac(upFeatures, upLabels, save_upPath)\n",
    "\n",
    "# leftFeatures, leftLabels = get_features(leftPath)\n",
    "# svm_pac(leftFeatures, leftLabels, save_leftPath)\n",
    "\n",
    "# faceFeatures, faceLabels = get_features(facePath)\n",
    "# svm_pac(faceFeatures, faceLabels, save_facePath)\n",
    "\n",
    "\n",
    "print(\"开始运行\")\n",
    "backFeatures, backLabels = get_features(backPath)\n",
    "print(\"获取特征和标签完成\")\n",
    "svm_pac(backFeatures, backLabels, save_backPath)\n",
    "print(\"PCA-SVM运算完成\")\n",
    "\n"
   ]
  },
  {
   "cell_type": "code",
   "execution_count": null,
   "metadata": {
    "collapsed": true
   },
   "outputs": [],
   "source": []
  }
 ],
 "metadata": {
  "kernelspec": {
   "display_name": "Python 3",
   "language": "python",
   "name": "python3"
  },
  "language_info": {
   "codemirror_mode": {
    "name": "ipython",
    "version": 3
   },
   "file_extension": ".py",
   "mimetype": "text/x-python",
   "name": "python",
   "nbconvert_exporter": "python",
   "pygments_lexer": "ipython3",
   "version": "3.6.10"
  },
  "toc": {
   "base_numbering": 1,
   "nav_menu": {},
   "number_sections": true,
   "sideBar": true,
   "skip_h1_title": false,
   "title_cell": "Table of Contents",
   "title_sidebar": "Contents",
   "toc_cell": false,
   "toc_position": {},
   "toc_section_display": true,
   "toc_window_display": false
  }
 },
 "nbformat": 4,
 "nbformat_minor": 2
}
